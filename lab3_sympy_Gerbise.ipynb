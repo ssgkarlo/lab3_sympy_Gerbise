{
  "nbformat": 4,
  "nbformat_minor": 0,
  "metadata": {
    "colab": {
      "provenance": []
    },
    "kernelspec": {
      "name": "python3",
      "display_name": "Python 3"
    },
    "language_info": {
      "name": "python"
    }
  },
  "cells": [
    {
      "cell_type": "markdown",
      "source": [
        "**Task # 1: Include all necessary sympy modules**"
      ],
      "metadata": {
        "id": "X7cc_vnxzuTp"
      }
    },
    {
      "cell_type": "code",
      "execution_count": 4,
      "metadata": {
        "id": "RWIU0_FRwDl3"
      },
      "outputs": [],
      "source": [
        "import sympy as sp\n",
        "from sympy import symbols, sqrt\n",
        "from IPython.display import display\n",
        "sp.init_printing()"
      ]
    },
    {
      "cell_type": "markdown",
      "source": [
        "**Task #2: Solve for the following**\n",
        "\n",
        "\n",
        "\n",
        "- $\\frac{5}{3} + \\frac{\\sqrt{10}}{2}$\n",
        "- $\\sqrt{50} \\times \\sqrt{\\frac{5}{9}}$"
      ],
      "metadata": {
        "id": "LFSoyk2o0D0E"
      }
    },
    {
      "cell_type": "markdown",
      "source": [
        "Problem 1:"
      ],
      "metadata": {
        "id": "rjNvRRLg0aWS"
      }
    },
    {
      "cell_type": "code",
      "source": [
        "expression1 = sp.Rational(5, 3) + sp.sqrt(10)/2\n",
        "display(expression1)"
      ],
      "metadata": {
        "colab": {
          "base_uri": "https://localhost:8080/",
          "height": 55
        },
        "id": "C6wrzqoOzUgw",
        "outputId": "96348e60-1c3b-4cce-ab69-43575a91e8dc"
      },
      "execution_count": 6,
      "outputs": [
        {
          "output_type": "display_data",
          "data": {
            "text/plain": [
              "√10   5\n",
              "─── + ─\n",
              " 2    3"
            ],
            "text/latex": "$\\displaystyle \\frac{\\sqrt{10}}{2} + \\frac{5}{3}$"
          },
          "metadata": {}
        }
      ]
    },
    {
      "cell_type": "markdown",
      "source": [
        "Problem 2:"
      ],
      "metadata": {
        "id": "MwpUbbPx0b3X"
      }
    },
    {
      "cell_type": "code",
      "source": [
        "expression2 = sp.sqrt(50) * sp.sqrt(sp.Rational(5, 9))\n",
        "display(expression2)"
      ],
      "metadata": {
        "colab": {
          "base_uri": "https://localhost:8080/",
          "height": 55
        },
        "id": "_h6hmaEnzWRN",
        "outputId": "a29f64b3-b219-4e3a-9586-e7cd67cb3322"
      },
      "execution_count": 7,
      "outputs": [
        {
          "output_type": "display_data",
          "data": {
            "text/plain": [
              "5⋅√10\n",
              "─────\n",
              "  3  "
            ],
            "text/latex": "$\\displaystyle \\frac{5 \\sqrt{10}}{3}$"
          },
          "metadata": {}
        }
      ]
    },
    {
      "cell_type": "markdown",
      "source": [
        "**Task #3: Create the equation for the following using Symbols**\n",
        "\n",
        "- $2x+3y=12$\n",
        "- $x−y=4$"
      ],
      "metadata": {
        "id": "YjTQhswN0gVG"
      }
    },
    {
      "cell_type": "markdown",
      "source": [
        "Problem 1:"
      ],
      "metadata": {
        "id": "8HoJAD3U0uZH"
      }
    },
    {
      "cell_type": "code",
      "source": [
        "x, y = sp.symbols('x y')\n",
        "\n",
        "equation1 = sp.Eq(2*x + 3*y, 12)\n",
        "display(equation1)"
      ],
      "metadata": {
        "colab": {
          "base_uri": "https://localhost:8080/",
          "height": 38
        },
        "id": "TC_OQK1jz9rh",
        "outputId": "e533cc4d-d271-44ce-9878-d4f768419ddc"
      },
      "execution_count": 9,
      "outputs": [
        {
          "output_type": "display_data",
          "data": {
            "text/plain": [
              "2⋅x + 3⋅y = 12"
            ],
            "text/latex": "$\\displaystyle 2 x + 3 y = 12$"
          },
          "metadata": {}
        }
      ]
    },
    {
      "cell_type": "markdown",
      "source": [
        "Problem 2:"
      ],
      "metadata": {
        "id": "_7ZBFbyz0yMH"
      }
    },
    {
      "cell_type": "code",
      "source": [
        "x, y = sp.symbols('x y')\n",
        "\n",
        "equation2 = sp.Eq(x - y, 4)\n",
        "display(equation2)"
      ],
      "metadata": {
        "colab": {
          "base_uri": "https://localhost:8080/",
          "height": 38
        },
        "id": "UWUC7ewP0zMS",
        "outputId": "4b930f75-212a-4455-bb88-3b40746b5e87"
      },
      "execution_count": 10,
      "outputs": [
        {
          "output_type": "display_data",
          "data": {
            "text/plain": [
              "x - y = 4"
            ],
            "text/latex": "$\\displaystyle x - y = 4$"
          },
          "metadata": {}
        }
      ]
    },
    {
      "cell_type": "markdown",
      "source": [
        "**Task #4: Simplification**"
      ],
      "metadata": {
        "id": "BWRbm4_-2KOv"
      }
    },
    {
      "cell_type": "markdown",
      "source": [
        "Problem 1:"
      ],
      "metadata": {
        "id": "Klcdla_I38ZX"
      }
    },
    {
      "cell_type": "code",
      "source": [
        "x = sp.symbols('x')\n",
        "\n",
        "expression1 = (x**2 + 2*x + 1) / (x + 1)\n",
        "simplified1 = sp.simplify(expression1)\n",
        "\n",
        "display(expression1, simplified1)"
      ],
      "metadata": {
        "colab": {
          "base_uri": "https://localhost:8080/",
          "height": 77
        },
        "id": "eTEp5S_4074E",
        "outputId": "e86552d5-8601-4840-b17a-cb3404a7c160"
      },
      "execution_count": 11,
      "outputs": [
        {
          "output_type": "display_data",
          "data": {
            "text/plain": [
              " 2          \n",
              "x  + 2⋅x + 1\n",
              "────────────\n",
              "   x + 1    "
            ],
            "text/latex": "$\\displaystyle \\frac{x^{2} + 2 x + 1}{x + 1}$"
          },
          "metadata": {}
        },
        {
          "output_type": "display_data",
          "data": {
            "text/plain": [
              "x + 1"
            ],
            "text/latex": "$\\displaystyle x + 1$"
          },
          "metadata": {}
        }
      ]
    },
    {
      "cell_type": "markdown",
      "source": [
        "Problem 2:"
      ],
      "metadata": {
        "id": "6vmqb7eW3-rX"
      }
    },
    {
      "cell_type": "code",
      "source": [
        "x = sp.symbols('x')\n",
        "\n",
        "expression2 = (1 - 1 / (1 + 1/x)) / (1 + 1/x)\n",
        "simplified2 = sp.simplify(expression2)\n",
        "\n",
        "display(expression2, simplified2)"
      ],
      "metadata": {
        "colab": {
          "base_uri": "https://localhost:8080/",
          "height": 104
        },
        "id": "Zd1bXWfQ2TZb",
        "outputId": "9f1ca662-a0b7-4038-c27e-a8516ce1a890"
      },
      "execution_count": 12,
      "outputs": [
        {
          "output_type": "display_data",
          "data": {
            "text/plain": [
              "      1  \n",
              "1 - ─────\n",
              "        1\n",
              "    1 + ─\n",
              "        x\n",
              "─────────\n",
              "      1  \n",
              "  1 + ─  \n",
              "      x  "
            ],
            "text/latex": "$\\displaystyle \\frac{1 - \\frac{1}{1 + \\frac{1}{x}}}{1 + \\frac{1}{x}}$"
          },
          "metadata": {}
        },
        {
          "output_type": "display_data",
          "data": {
            "text/plain": [
              "   x    \n",
              "────────\n",
              "       2\n",
              "(x + 1) "
            ],
            "text/latex": "$\\displaystyle \\frac{x}{\\left(x + 1\\right)^{2}}$"
          },
          "metadata": {}
        }
      ]
    },
    {
      "cell_type": "markdown",
      "source": [
        "**Task #5: Expansion**"
      ],
      "metadata": {
        "id": "SeSAM3Tw4Abe"
      }
    },
    {
      "cell_type": "markdown",
      "source": [
        "Problem 1:"
      ],
      "metadata": {
        "id": "7atx8eTO4FDg"
      }
    },
    {
      "cell_type": "code",
      "source": [
        "x, y = sp.symbols('x y')\n",
        "\n",
        "expression1 = (2*x + 2)**2\n",
        "expanded1 = sp.expand(expression1)\n",
        "\n",
        "display(expression1, expanded1)"
      ],
      "metadata": {
        "colab": {
          "base_uri": "https://localhost:8080/",
          "height": 61
        },
        "id": "jqRfPbFy2UVR",
        "outputId": "8a60544d-efe5-444f-c6d3-73074c8adca3"
      },
      "execution_count": 13,
      "outputs": [
        {
          "output_type": "display_data",
          "data": {
            "text/plain": [
              "         2\n",
              "(2⋅x + 2) "
            ],
            "text/latex": "$\\displaystyle \\left(2 x + 2\\right)^{2}$"
          },
          "metadata": {}
        },
        {
          "output_type": "display_data",
          "data": {
            "text/plain": [
              "   2          \n",
              "4⋅x  + 8⋅x + 4"
            ],
            "text/latex": "$\\displaystyle 4 x^{2} + 8 x + 4$"
          },
          "metadata": {}
        }
      ]
    },
    {
      "cell_type": "markdown",
      "source": [
        "Problem 2:"
      ],
      "metadata": {
        "id": "1aAvqFDn4GOh"
      }
    },
    {
      "cell_type": "code",
      "source": [
        "x, y = sp.symbols('x y')\n",
        "\n",
        "expression2 = (2*x + y)*(x - 2*y)\n",
        "expanded2 = sp.expand(expression2)\n",
        "\n",
        "display(expression2, expanded2)"
      ],
      "metadata": {
        "colab": {
          "base_uri": "https://localhost:8080/",
          "height": 60
        },
        "id": "4e3Yi1b94G_C",
        "outputId": "0b538f22-7643-4da7-a19a-82a979910383"
      },
      "execution_count": 14,
      "outputs": [
        {
          "output_type": "display_data",
          "data": {
            "text/plain": [
              "(x - 2⋅y)⋅(2⋅x + y)"
            ],
            "text/latex": "$\\displaystyle \\left(x - 2 y\\right) \\left(2 x + y\\right)$"
          },
          "metadata": {}
        },
        {
          "output_type": "display_data",
          "data": {
            "text/plain": [
              "   2              2\n",
              "2⋅x  - 3⋅x⋅y - 2⋅y "
            ],
            "text/latex": "$\\displaystyle 2 x^{2} - 3 x y - 2 y^{2}$"
          },
          "metadata": {}
        }
      ]
    },
    {
      "cell_type": "code",
      "source": [],
      "metadata": {
        "id": "ZZBtygJJ4STf"
      },
      "execution_count": null,
      "outputs": []
    }
  ]
}